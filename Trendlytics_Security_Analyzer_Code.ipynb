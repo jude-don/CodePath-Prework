{
  "cells": [
    {
      "cell_type": "markdown",
      "metadata": {
        "id": "view-in-github",
        "colab_type": "text"
      },
      "source": [
        "<a href=\"https://colab.research.google.com/github/jude-don/CodePath-Prework/blob/main/Trendlytics_Security_Analyzer_Code.ipynb\" target=\"_parent\"><img src=\"https://colab.research.google.com/assets/colab-badge.svg\" alt=\"Open In Colab\"/></a>"
      ]
    },
    {
      "cell_type": "markdown",
      "source": [
        "# Data Engineering"
      ],
      "metadata": {
        "id": "mSRS84DQojU2"
      }
    },
    {
      "cell_type": "markdown",
      "metadata": {
        "id": "YLla1gZTrVDc"
      },
      "source": [
        "Install Python Libraries (Google Trends, AWS RDS Driver and Time conversion driver)\n",
        "\n"
      ]
    },
    {
      "cell_type": "code",
      "execution_count": null,
      "metadata": {
        "colab": {
          "base_uri": "https://localhost:8080/"
        },
        "id": "-fW7D9LhrTLa",
        "outputId": "8532b803-3f75-4bb4-8c05-4f15d0a8a319"
      },
      "outputs": [
        {
          "output_type": "stream",
          "name": "stdout",
          "text": [
            "Collecting pytrends\n",
            "  Downloading pytrends-4.9.2-py3-none-any.whl (15 kB)\n",
            "Requirement already satisfied: requests>=2.0 in /usr/local/lib/python3.10/dist-packages (from pytrends) (2.31.0)\n",
            "Requirement already satisfied: pandas>=0.25 in /usr/local/lib/python3.10/dist-packages (from pytrends) (1.5.3)\n",
            "Requirement already satisfied: lxml in /usr/local/lib/python3.10/dist-packages (from pytrends) (4.9.3)\n",
            "Requirement already satisfied: python-dateutil>=2.8.1 in /usr/local/lib/python3.10/dist-packages (from pandas>=0.25->pytrends) (2.8.2)\n",
            "Requirement already satisfied: pytz>=2020.1 in /usr/local/lib/python3.10/dist-packages (from pandas>=0.25->pytrends) (2023.3.post1)\n",
            "Requirement already satisfied: numpy>=1.21.0 in /usr/local/lib/python3.10/dist-packages (from pandas>=0.25->pytrends) (1.23.5)\n",
            "Requirement already satisfied: charset-normalizer<4,>=2 in /usr/local/lib/python3.10/dist-packages (from requests>=2.0->pytrends) (3.3.2)\n",
            "Requirement already satisfied: idna<4,>=2.5 in /usr/local/lib/python3.10/dist-packages (from requests>=2.0->pytrends) (3.4)\n",
            "Requirement already satisfied: urllib3<3,>=1.21.1 in /usr/local/lib/python3.10/dist-packages (from requests>=2.0->pytrends) (2.0.7)\n",
            "Requirement already satisfied: certifi>=2017.4.17 in /usr/local/lib/python3.10/dist-packages (from requests>=2.0->pytrends) (2023.7.22)\n",
            "Requirement already satisfied: six>=1.5 in /usr/local/lib/python3.10/dist-packages (from python-dateutil>=2.8.1->pandas>=0.25->pytrends) (1.16.0)\n",
            "Installing collected packages: pytrends\n",
            "Successfully installed pytrends-4.9.2\n",
            "Collecting pymysql\n",
            "  Downloading PyMySQL-1.1.0-py3-none-any.whl (44 kB)\n",
            "\u001b[2K     \u001b[90m━━━━━━━━━━━━━━━━━━━━━━━━━━━━━━━━━━━━━━━━\u001b[0m \u001b[32m44.8/44.8 kB\u001b[0m \u001b[31m785.7 kB/s\u001b[0m eta \u001b[36m0:00:00\u001b[0m\n",
            "\u001b[?25hInstalling collected packages: pymysql\n",
            "Successfully installed pymysql-1.1.0\n",
            "Requirement already satisfied: pytz in /usr/local/lib/python3.10/dist-packages (2023.3.post1)\n"
          ]
        }
      ],
      "source": [
        "!pip install pytrends\n",
        "!pip install pymysql\n",
        "!pip install pytz"
      ]
    },
    {
      "cell_type": "markdown",
      "metadata": {
        "id": "YT8jEM5JngYG"
      },
      "source": [
        "Import Python Libraries"
      ]
    },
    {
      "cell_type": "code",
      "execution_count": null,
      "metadata": {
        "id": "By2iDF-tegsF"
      },
      "outputs": [],
      "source": [
        "from os import name\n",
        "import requests\n",
        "import re\n",
        "import json\n",
        "import time\n",
        "import pymysql\n",
        "import csv\n",
        "import pandas as pd\n",
        "import threading\n",
        "import pytz\n",
        "import re\n",
        "from dataclasses import dataclass\n",
        "from typing import List\n",
        "from typing import Any\n",
        "from collections import namedtuple\n",
        "from typing import List\n",
        "from pytrends.request import TrendReq\n",
        "from datetime import datetime, timedelta\n",
        "import matplotlib.pyplot as plt\n",
        "import urllib.parse\n",
        "import seaborn as sns"
      ]
    },
    {
      "cell_type": "markdown",
      "metadata": {
        "id": "QoKjtDilenYI"
      },
      "source": [
        "Data class models to define the type of list to hold trending words, google and bing search links, time of discovery and virus total results ."
      ]
    },
    {
      "cell_type": "code",
      "execution_count": null,
      "metadata": {
        "id": "xvzy7MElV4at"
      },
      "outputs": [],
      "source": [
        "@dataclass\n",
        "class SearchLinkData:\n",
        "  search_link: str # search link\n",
        "  datetime_of_discovery: str # the time the link was discovered\n",
        "\n",
        "@dataclass\n",
        "class SearchResult:\n",
        "  search_item: str # Search item\n",
        "  search_results: List[SearchLinkData] # List of search results\n",
        "\n",
        "@dataclass\n",
        "class TrendAnalysis:\n",
        "  trend: str # Search item\n",
        "  search_link: str # Google search link\n",
        "  datetime_of_discovery : str\n",
        "  virus_total_result: str # Virus Total scan url result"
      ]
    },
    {
      "cell_type": "markdown",
      "metadata": {
        "id": "cGu42WGHexzR"
      },
      "source": [
        "Functions to acquire Twitter and Google Trends"
      ]
    },
    {
      "cell_type": "code",
      "execution_count": null,
      "metadata": {
        "id": "pgg4-ZxtexLN"
      },
      "outputs": [],
      "source": [
        "# Twitter Trends Retrieval\n",
        "\n",
        "def fetch_twitter_trends():\n",
        "    url = \"https://twitter-trends5.p.rapidapi.com/twitter/request.php\"\n",
        "    payload = {\"woeid\": \"\"} # Enter woeid from virus total\n",
        "    headers = {\n",
        "        \"content-type\": \"application/x-www-form-urlencoded\",\n",
        "        \"X-RapidAPI-Key\": \"\", # Enter rapid api key\n",
        "        \"X-RapidAPI-Host\": \"twitter-trends5.p.rapidapi.com\",\n",
        "    }\n",
        "    response = requests.post(url, data=payload, headers=headers)\n",
        "    response_json = response.json()\n",
        "\n",
        "    # Ensure `trends` key exists and is a dictionary\n",
        "    if \"trends\" in response_json and isinstance(response_json[\"trends\"], dict):\n",
        "        trends_list = list(response_json[\"trends\"].values())  # Convert to list\n",
        "        return trends_list\n",
        "    else:\n",
        "        raise ValueError(\"Unexpected Twitter API response format.\")\n",
        "\n",
        "\n",
        "\n",
        "# Google Trends Retrieval\n",
        "def fetch_google_trends():\n",
        "    from pytrends.request import TrendReq\n",
        "    pytrends = TrendReq(hl='en-US', tz=300)\n",
        "    trends = pytrends.trending_searches(pn='united_states')\n",
        "    sorted_trends = sorted(trends[0][:20])\n",
        "    return sorted_trends\n",
        "\n",
        "\n",
        "\n",
        "# Trend Sorting and Refining\n",
        "def refine_trends(trends):\n",
        "    trend_names = sorted(set(trend.get('name') for trend in trends))\n",
        "    return trend_names[:20] if len(trend_names) >= 20 else trend_names\n",
        "\n",
        "def refine_trends(trends_list):\n",
        "    if not isinstance(trends_list, list):\n",
        "        raise ValueError(\"Expected trends_list to be a list.\")\n",
        "\n",
        "    name_of_trends_list = []\n",
        "\n",
        "    for trend in trends_list:\n",
        "        # Handle trend types from different sources\n",
        "        if isinstance(trend, dict) and \"name\" in trend:\n",
        "            name_of_trends_list.append(trend[\"name\"])  # Twitter trends\n",
        "        elif isinstance(trend, str):\n",
        "            name_of_trends_list.append(trend)  # Google trends\n",
        "        else:\n",
        "            print(f\"Unexpected trend format: {trend}\")\n",
        "\n",
        "    # Remove duplicates, sort, and limit to 20 items\n",
        "    refined_trends = sorted(set(name_of_trends_list))\n",
        "    return refined_trends[:20] if len(refined_trends) > 20 else refined_trends\n",
        "\n"
      ]
    },
    {
      "cell_type": "markdown",
      "metadata": {
        "id": "zBE32PGapY4V"
      },
      "source": [
        "Google Search Engine API calls"
      ]
    },
    {
      "cell_type": "code",
      "execution_count": null,
      "metadata": {
        "id": "9OMS-OKMpbWw"
      },
      "outputs": [],
      "source": [
        "# Google API Payload Builder\n",
        "def build_google_payload(query, start=0, results_count=10, date_range='w1'):\n",
        "    return {\n",
        "        'key': '',# Enter google search engine key\n",
        "        'q': query,\n",
        "        'cx': '',# Enter google search engine cx\n",
        "        'start': start,\n",
        "        'num': results_count,\n",
        "        'dateRestrict': date_range\n",
        "    }\n",
        "\n",
        "# Google API Request\n",
        "def execute_google_request(payload):\n",
        "    api_url = 'https://www.googleapis.com/customsearch/v1'\n",
        "    response = requests.get(api_url, params=payload)\n",
        "    response.raise_for_status()\n",
        "    return response.json()\n"
      ]
    },
    {
      "cell_type": "markdown",
      "source": [
        "Bing Search Engine Api Functions"
      ],
      "metadata": {
        "id": "ksdxv8jZpEPb"
      }
    },
    {
      "cell_type": "code",
      "source": [
        "# Bing Search Payload\n",
        "def create_bing_payload(query):\n",
        "    excluded_sites = [\n",
        "        \"facebook.com\", \"x.com\", \"tiktok.com\", \"cnn.com\",\n",
        "        \"theinsider.com\", \"twitch.tv\", \"soundcloud.com\", \"vogue.com\",\n",
        "        \"wikipedia.org\", \"yahoo.com\", \"amazon.com\", \"netflix.com\",\n",
        "        \"msn.com\", \"youtube.com\", \"linkedin.com\", \"telegram.me\", \"reddit.com\"\n",
        "    ]\n",
        "    exclusion = \" \".join(f\"-site:{site}\" for site in excluded_sites)\n",
        "    return {\n",
        "        'q': f\"{query} {exclusion}\",\n",
        "        'count': '10',\n",
        "        'freshness': 'Week',\n",
        "        'mkt': 'en-US',\n",
        "        'safeSearch': 'Off'\n",
        "    }\n",
        "\n",
        "\n",
        "# Bing API Request\n",
        "def execute_bing_request(payload, api_key=\"aa342d3c4f8e4efa948b5c72b2e833c1\"):\n",
        "    api_url = \"https://api.bing.microsoft.com/v7.0/search\"\n",
        "    headers = {\"Ocp-Apim-Subscription-Key\": api_key}\n",
        "    response = requests.get(api_url, headers=headers, params=payload)\n",
        "    response.raise_for_status()\n",
        "    return response.json()"
      ],
      "metadata": {
        "id": "bFnvq659pECm"
      },
      "execution_count": null,
      "outputs": []
    },
    {
      "cell_type": "markdown",
      "metadata": {
        "id": "PQbA1duTwI7s"
      },
      "source": [
        "Virus Total API Functions"
      ]
    },
    {
      "cell_type": "code",
      "execution_count": null,
      "metadata": {
        "id": "zOm6LLqSgBwR"
      },
      "outputs": [],
      "source": [
        "# Constants for VirusTotal\n",
        "API_KEY = \"\" # Enter virus total\n",
        "\n",
        "# Function to scan a URL with VirusTotal\n",
        "def scan_url_with_virustotal(url_to_scan):\n",
        "    \"\"\"\n",
        "    Submits a URL to VirusTotal for scanning.\n",
        "\n",
        "    Parameters:\n",
        "    url_to_scan (str): The URL to be scanned.\n",
        "\n",
        "    Returns:\n",
        "    str: The analysis URL for further investigation.\n",
        "    \"\"\"\n",
        "    api_url = \"https://www.virustotal.com/api/v3/urls\"\n",
        "    payload = {\"url\": url_to_scan}\n",
        "    headers = {\n",
        "        \"accept\": \"application/json\",\n",
        "        \"x-apikey\": API_KEY,\n",
        "        \"content-type\": \"application/x-www-form-urlencoded\"\n",
        "    }\n",
        "\n",
        "    response = requests.post(api_url, data=payload, headers=headers)\n",
        "\n",
        "    if response.status_code == 200:\n",
        "        analysis_url = response.json()[\"data\"][\"links\"][\"self\"]\n",
        "        print(f\"Scan submitted successfully. Analysis URL: {analysis_url}\")\n",
        "        return analysis_url\n",
        "    else:\n",
        "        print(f\"Error submitting scan: {response.status_code}, {response.text}\")\n",
        "        raise Exception(response.text)\n",
        "\n",
        "# Function to analyze a URL with VirusTotal\n",
        "def analyze_url_with_virustotal(analysis_url, retries=3):\n",
        "    \"\"\"\n",
        "    Retrieves the analysis results of a previously submitted URL.\n",
        "\n",
        "    Parameters:\n",
        "    analysis_url (str): The analysis URL retrieved from the scan step.\n",
        "    retries (int): Number of attempts to retrieve results in case of delays.\n",
        "\n",
        "    Returns:\n",
        "    str: The analysis result (\"Malicious\", \"Suspicious\", \"Clean\", or an error message).\n",
        "    \"\"\"\n",
        "    headers = {\n",
        "        \"accept\": \"application/json\",\n",
        "        \"x-apikey\": API_KEY\n",
        "    }\n",
        "\n",
        "    for attempt in range(retries):\n",
        "        response = requests.get(analysis_url, headers=headers)\n",
        "\n",
        "        if response.status_code == 200:\n",
        "            response_json = response.json()\n",
        "            stats = response_json.get(\"data\", {}).get(\"attributes\", {}).get(\"stats\", {})\n",
        "\n",
        "            malicious = stats.get(\"malicious\", 0)\n",
        "            suspicious = stats.get(\"suspicious\", 0)\n",
        "            harmless = stats.get(\"harmless\", 0)\n",
        "\n",
        "            if malicious > 0:\n",
        "                return \"Malicious\"\n",
        "            elif suspicious > 0:\n",
        "                return \"Suspicious\"\n",
        "            elif harmless > 0:\n",
        "                return \"Clean\"\n",
        "            else:\n",
        "                return \"No significant data\"\n",
        "\n",
        "        print(f\"Retrying... Attempt {attempt + 1}/{retries}\")\n",
        "        time.sleep(5)\n",
        "\n",
        "    print(f\"Failed to retrieve analysis for URL: {analysis_url}\")\n",
        "    return \"Analysis failed\"\n"
      ]
    },
    {
      "cell_type": "markdown",
      "metadata": {
        "id": "HYLQJQ11dF-g"
      },
      "source": [
        "AWS RDS Queries and Connections"
      ]
    },
    {
      "cell_type": "code",
      "execution_count": null,
      "metadata": {
        "id": "2EzsuRtYdM5-"
      },
      "outputs": [],
      "source": [
        "import pymysql\n",
        "import csv\n",
        "\n",
        "# Database connection details\n",
        "DB_HOST = '' # Enter database host address\n",
        "DB_PORT = # Enter database port number\n",
        "DB_USER = '' # Enter database username\n",
        "DB_PASSWORD = '' # Enter database password\n",
        "DB_NAME = '' # Enter database name\n",
        "\n",
        "# Function to connect to the database\n",
        "def create_db_connection():\n",
        "    \"\"\"\n",
        "    Establishes a connection to the database.\n",
        "    Returns:\n",
        "        pymysql.connections.Connection: A connection object.\n",
        "    \"\"\"\n",
        "    try:\n",
        "        connection = pymysql.connect(\n",
        "            host=DB_HOST,\n",
        "            port=DB_PORT,\n",
        "            user=DB_USER,\n",
        "            password=DB_PASSWORD,\n",
        "            database=DB_NAME\n",
        "        )\n",
        "        print(\"Database connection established successfully.\")\n",
        "        return connection\n",
        "    except Exception as e:\n",
        "        print(f\"Failed to connect to database: {e}\")\n",
        "        raise\n",
        "\n",
        "# Function to retrieve all data from a database table\n",
        "def retrieve_all_data(connection):\n",
        "    \"\"\"\n",
        "    Fetches all rows from the TrendData table.\n",
        "\n",
        "    Parameters:\n",
        "        connection: Database connection object.\n",
        "    \"\"\"\n",
        "    try:\n",
        "        with connection.cursor() as cursor:\n",
        "            query = \"SELECT * FROM TrendData\"\n",
        "            cursor.execute(query)\n",
        "            results = cursor.fetchall()\n",
        "            for row in results:\n",
        "                print(row)\n",
        "    except Exception as e:\n",
        "        print(f\"Error retrieving data: {e}\")\n",
        "\n",
        "# Function to insert trend data into the database\n",
        "def push_data_to_db(connection, trend_data):\n",
        "    \"\"\"\n",
        "    Inserts trend data into the TrendData table.\n",
        "\n",
        "    Parameters:\n",
        "        connection: Database connection object.\n",
        "        trend_data (list of tuples): Each tuple contains (TrendName, TrendLink, VirusTotalResult, DiscoveryTime).\n",
        "    \"\"\"\n",
        "    try:\n",
        "        with connection.cursor() as cursor:\n",
        "            query = \"\"\"\n",
        "            INSERT INTO TrendData (TrendName, TrendLink, VirusTotalResult, DiscoveryTime)\n",
        "            VALUES (%s, %s, %s, %s);\n",
        "            \"\"\"\n",
        "            cursor.executemany(query, trend_data)\n",
        "            connection.commit()\n",
        "            print(\"Data inserted successfully.\")\n",
        "    except Exception as e:\n",
        "        print(f\"Error inserting data: {e}\")\n",
        "        connection.rollback()\n",
        "\n",
        "# Function to export data from the database to a CSV file\n",
        "def export_to_csv(connection, table_name='TrendData', file_name='data.csv'):\n",
        "    \"\"\"\n",
        "    Exports data from a specified database table to a CSV file.\n",
        "\n",
        "    Parameters:\n",
        "        connection: Database connection object.\n",
        "        table_name (str): Name of the table to export data from.\n",
        "        file_name (str): Name of the CSV file to create.\n",
        "    \"\"\"\n",
        "    try:\n",
        "        with connection.cursor() as cursor:\n",
        "            query = f\"SELECT * FROM {table_name}\"\n",
        "            cursor.execute(query)\n",
        "            results = cursor.fetchall()\n",
        "\n",
        "            headers = [desc[0] for desc in cursor.description]\n",
        "\n",
        "            with open(file_name, 'w', newline='', encoding='utf-8') as csv_file:\n",
        "                writer = csv.writer(csv_file)\n",
        "                writer.writerow(headers)  # Write column headers\n",
        "                writer.writerows(results)  # Write data rows\n",
        "\n",
        "            print(f\"Data exported to {file_name} successfully.\")\n",
        "    except Exception as e:\n",
        "        print(f\"Error exporting data to CSV: {e}\")\n",
        "    cursor.close()\n"
      ]
    },
    {
      "cell_type": "markdown",
      "metadata": {
        "id": "MmO5WEQHwdmk"
      },
      "source": [
        "Main Data Utility Functions"
      ]
    },
    {
      "cell_type": "code",
      "execution_count": null,
      "metadata": {
        "id": "JeZcWRB3wcsA"
      },
      "outputs": [],
      "source": [
        "# Function to extract time expressions from text\n",
        "def extract_time_from_text(text):\n",
        "    \"\"\"\n",
        "    Extracts a time expression (e.g., '3 days ago' or '12 hours ago') from text\n",
        "    and calculates the corresponding date and time.\n",
        "\n",
        "    Parameters:\n",
        "        text (str): A string containing a time expression.\n",
        "\n",
        "    Returns:\n",
        "        str: A formatted date-time string ('YYYY-MM-DD HH:MM:SS'), or a message if not found.\n",
        "    \"\"\"\n",
        "    time_pattern = re.compile(r'(\\d+)\\s+(hours|days)\\s+ago')\n",
        "    match = time_pattern.search(text)\n",
        "\n",
        "    if not match:\n",
        "        return \"No valid time expression found.\"\n",
        "\n",
        "    # Extract the number and the unit (hours or days)\n",
        "    number = int(match.group(1))\n",
        "    unit = match.group(2)\n",
        "\n",
        "    # Convert to hours if unit is days\n",
        "    if unit == \"days\":\n",
        "        number *= 24\n",
        "\n",
        "    # Calculate the past date-time\n",
        "    past_datetime = datetime.now() - timedelta(hours=number)\n",
        "\n",
        "    return past_datetime.strftime('%Y-%m-%d %H:%M:%S')\n",
        "\n",
        "\n",
        "# Function to calculate date-time for a specific number of hours ago\n",
        "def find_date_hours_ago(hours_ago):\n",
        "    \"\"\"\n",
        "    Calculates the date and time for a given number of hours ago.\n",
        "\n",
        "    Parameters:\n",
        "        hours_ago (int): Number of hours ago.\n",
        "\n",
        "    Returns:\n",
        "        str: A formatted date-time string ('YYYY-MM-DD HH:MM:SS').\n",
        "    \"\"\"\n",
        "    past_datetime = datetime.now() - timedelta(hours=hours_ago)\n",
        "    return past_datetime.strftime('%Y-%m-%d %H:%M:%S')\n",
        "\n",
        "\n",
        "# Function to convert ISO 8601 date strings to a custom format\n",
        "def convert_to_custom_format(iso_date_str):\n",
        "    \"\"\"\n",
        "    Converts an ISO 8601 date string to a custom date-time format.\n",
        "\n",
        "    Parameters:\n",
        "        iso_date_str (str): ISO 8601 date string (e.g., '2024-12-15T10:30:00.123456').\n",
        "\n",
        "    Returns:\n",
        "        str: The custom-formatted date-time ('YYYY-MM-DD HH:MM:SS').\n",
        "    \"\"\"\n",
        "    try:\n",
        "        # Truncate fractional seconds if present\n",
        "        if '.' in iso_date_str:\n",
        "            iso_date_str = iso_date_str.split('.')[0]\n",
        "\n",
        "        # Parse ISO 8601 string\n",
        "        date_obj = datetime.fromisoformat(iso_date_str)\n",
        "\n",
        "        # Return formatted date\n",
        "        return date_obj.strftime('%Y-%m-%d %H:%M:%S')\n",
        "    except Exception as e:\n",
        "        return f\"Error parsing date: {e}\"\n"
      ]
    },
    {
      "cell_type": "markdown",
      "metadata": {
        "id": "KK5aMmrrwhj6"
      },
      "source": [
        "Main Functions"
      ]
    },
    {
      "cell_type": "code",
      "execution_count": null,
      "metadata": {
        "id": "JAUvqgeGsbBr"
      },
      "outputs": [],
      "source": [
        "# Function to search trends using Google\n",
        "def fetch_google_search_results(search_items):\n",
        "    \"\"\"\n",
        "    Fetches search results from Google for a list of search items.\n",
        "\n",
        "    Parameters:\n",
        "        search_items (list): List of search queries.\n",
        "\n",
        "    Returns:\n",
        "        list: List of SearchResult instances containing search data.\n",
        "    \"\"\"\n",
        "    search_results = []\n",
        "    for query in search_items:\n",
        "        print(f\"Processing search item: {query}\")\n",
        "        try:\n",
        "            payload = build_google_payload(query)\n",
        "            response = execute_google_request(payload)\n",
        "\n",
        "            if 'items' in response:\n",
        "                items = []\n",
        "                for result in response['items']:\n",
        "                    date_time = extract_time_from_text(result.get('snippet', ''))\n",
        "                    search_link = result.get('link', '')\n",
        "                    search_link_data = SearchLinkData(search_link, date_time)\n",
        "                    items.append(search_link_data)\n",
        "\n",
        "                search_results.append(SearchResult(search_item=query, search_results=items))\n",
        "            else:\n",
        "                print(f\"No results found for query: {query}\")\n",
        "        except Exception as e:\n",
        "            print(f\"Error fetching results for {query}: {e}\")\n",
        "    print(\"Google search results retrieval complete.\\n\")\n",
        "    return search_results\n",
        "\n",
        "\n",
        "\n",
        "# Function to search trends using Bing\n",
        "def fetch_bing_search_results(search_items):\n",
        "    \"\"\"\n",
        "    Fetches search results from Bing for a list of search items.\n",
        "\n",
        "    Parameters:\n",
        "        search_items (list): List of search queries.\n",
        "\n",
        "    Returns:\n",
        "        list: List of SearchResult instances containing search data.\n",
        "    \"\"\"\n",
        "    search_results = []\n",
        "    for query in search_items:\n",
        "        print(f\"Processing search item: {query}\")\n",
        "        try:\n",
        "            payload = create_bing_payload(query)\n",
        "            response = execute_bing_request(payload)\n",
        "\n",
        "            if 'webPages' in response and response['webPages']['value']:\n",
        "                items = []\n",
        "                for result in response['webPages']['value']:\n",
        "                    date_published = result.get('datePublished', None)\n",
        "                    date_time = (\n",
        "                        convert_to_custom_format(date_published)\n",
        "                        if date_published else \"Unknown\"\n",
        "                    )\n",
        "                    search_link = result.get('url', '')\n",
        "                    search_link_data = SearchLinkData(search_link, date_time)\n",
        "                    items.append(search_link_data)\n",
        "\n",
        "                search_results.append(SearchResult(search_item=query, search_results=items))\n",
        "            else:\n",
        "                print(f\"No results found for query: {query}\")\n",
        "        except Exception as e:\n",
        "            print(f\"Error fetching results for {query}: {e}\")\n",
        "    print(\"Bing search results retrieval complete.\\n\")\n",
        "    return search_results\n",
        "\n",
        "\n",
        "\n",
        "# Function to search for malware using VirusTotal\n",
        "def analyze_search_results_for_malware(search_results):\n",
        "    \"\"\"\n",
        "    Analyzes search results for malware using VirusTotal.\n",
        "\n",
        "    Parameters:\n",
        "        search_results (list): List of SearchResult instances.\n",
        "\n",
        "    Returns:\n",
        "        list: List of TrendAnalysis instances containing analysis data.\n",
        "    \"\"\"\n",
        "    malware_analysis_results = []\n",
        "    print(\"Starting malware analysis...\\n\")\n",
        "\n",
        "    for search_result in search_results:\n",
        "        # Ensure `search_result` is a valid SearchResult instance\n",
        "        if not isinstance(search_result, SearchResult):\n",
        "            print(f\"Invalid search_result object: {search_result}\")\n",
        "            continue\n",
        "\n",
        "        print(f\"Analyzing search item: {search_result.search_item}\")\n",
        "\n",
        "        for search_link_data in search_result.search_results:\n",
        "            # Validate `search_link_data` is a valid SearchLinkData instance\n",
        "            if not isinstance(search_link_data, SearchLinkData):\n",
        "                print(f\"Invalid search_link_data object: {search_link_data}\")\n",
        "                continue\n",
        "\n",
        "            try:\n",
        "                # Step 1: Scan the URL using VirusTotal\n",
        "                analysis_url = scan_url_with_virustotal(search_link_data.search_link)\n",
        "\n",
        "                # Step 2: Wait and analyze the results\n",
        "                time.sleep(20)  # Give VirusTotal time to process\n",
        "                scan_result = analyze_url_with_virustotal(analysis_url)\n",
        "\n",
        "                # Step 3: Create and store the TrendAnalysis object\n",
        "                trend_analysis = TrendAnalysis(\n",
        "                    trend=search_result.search_item,\n",
        "                    search_link=search_link_data.search_link,\n",
        "                    datetime_of_discovery=search_link_data.datetime_of_discovery,\n",
        "                    virus_total_result=scan_result\n",
        "                )\n",
        "                malware_analysis_results.append(trend_analysis)\n",
        "                print(f\"Processed: {search_link_data.search_link}, Result: {scan_result}\")\n",
        "\n",
        "            except Exception as e:\n",
        "                print(f\"Error analyzing {search_link_data.search_link}: {e}\")\n",
        "\n",
        "            # Pause between requests to avoid hitting API rate limits\n",
        "            time.sleep(5)\n",
        "\n",
        "    print(\"Malware analysis complete.\\n\")\n",
        "    return malware_analysis_results\n",
        "\n",
        "\n",
        "\n",
        "\n",
        "\n",
        "\n",
        "\n",
        "# Function to analyze Twitter trends\n",
        "def analyze_twitter_trends():\n",
        "    \"\"\"\n",
        "    Fetches Twitter trends, analyzes search results, and stores data in the database.\n",
        "    \"\"\"\n",
        "    print(\"Fetching Twitter trends...\")\n",
        "    twitter_trends = fetch_twitter_trends()\n",
        "    refined_trends = refine_trends(twitter_trends)\n",
        "\n",
        "    print(\"Fetching search results for Twitter trends...\")\n",
        "    google_results = fetch_google_search_results(refined_trends)\n",
        "    bing_results = fetch_bing_search_results(refined_trends)\n",
        "\n",
        "    all_search_results = google_results + bing_results\n",
        "\n",
        "    print(\"Analyzing search results for malware...\")\n",
        "    malware_analysis_results = analyze_search_results_for_malware(all_search_results)\n",
        "\n",
        "    print(\"Storing analysis results in the database...\")\n",
        "    connection = create_db_connection()\n",
        "    push_data_to_db(connection, malware_analysis_results)\n",
        "    connection.close()\n",
        "    print(\"Twitter trends analysis complete.\")\n",
        "\n",
        "\n",
        "\n",
        "\n",
        "# Function to analyze Google trends\n",
        "def analyze_google_trends():\n",
        "    \"\"\"\n",
        "    Fetches Google trends, analyzes search results, and stores data in the database.\n",
        "    \"\"\"\n",
        "    print(\"Fetching Google trends...\")\n",
        "    google_trends = fetch_google_trends()\n",
        "\n",
        "    print(\"Fetching search results for Google trends...\")\n",
        "    google_results = fetch_google_search_results(google_trends)\n",
        "    bing_results = fetch_bing_search_results(google_trends)\n",
        "\n",
        "    all_search_results = google_results + bing_results\n",
        "\n",
        "    print(\"Analyzing search results for malware...\")\n",
        "    malware_analysis_results = analyze_search_results_for_malware(all_search_results)\n",
        "\n",
        "    print(\"Storing analysis results in the database...\")\n",
        "    connection = create_db_connection()\n",
        "    push_data_to_db(connection, malware_analysis_results)\n",
        "    connection.close()\n",
        "    print(\"Google trends analysis complete.\")"
      ]
    },
    {
      "cell_type": "markdown",
      "metadata": {
        "id": "kOoSdVhRFpbe"
      },
      "source": [
        "Main Script (Run cells above sequentially and this cell for Results)"
      ]
    },
    {
      "cell_type": "code",
      "execution_count": null,
      "metadata": {
        "id": "Yw7wJ4xVyanr"
      },
      "outputs": [],
      "source": [
        "if __name__ == '__main__':\n",
        "    try:\n",
        "        print(\"Step 1: Fetching Twitter trends...\")\n",
        "        twitter_trends = fetch_twitter_trends()  # Get Twitter trends\n",
        "\n",
        "        print(\"Step 2: Fetching Google trends...\")\n",
        "        google_trends = fetch_google_trends()  # Get Google trends\n",
        "\n",
        "        print(\"Step 3: Refining trends...\")\n",
        "        combined_trends = refine_trends(twitter_trends + google_trends)  # Combine and refine trends\n",
        "\n",
        "        print(\"Step 4: Fetching Google search results...\")\n",
        "        google_search_results = fetch_google_search_results(combined_trends)  # Google search\n",
        "\n",
        "        print(\"Step 5: Fetching Bing search results...\")\n",
        "        bing_search_results = fetch_bing_search_results(combined_trends)  # Bing search\n",
        "\n",
        "        print(\"Step 6: Combining search results...\")\n",
        "        all_search_results = google_search_results + bing_search_results  # Combine all search results\n",
        "\n",
        "        print(\"Step 7: Analyzing search results for malware...\")\n",
        "        malware_analysis_results = analyze_search_results_for_malware(all_search_results)  # Malware analysis\n",
        "\n",
        "        print(\"Step 8: Connecting to the database...\")\n",
        "        db_connection = create_db_connection()  # Connect to the database\n",
        "\n",
        "        print(\"Step 9: Storing results in the database...\")\n",
        "        push_data_to_db(db_connection, malware_analysis_results)  # Store results\n",
        "\n",
        "        print(\"Process complete. All trends and analysis results have been processed and saved.\")\n",
        "\n",
        "    except Exception as e:\n",
        "        print(f\"An error occurred during execution: {e}\")\n",
        "\n",
        "    finally:\n",
        "        # Ensure the database connection is closed\n",
        "        try:\n",
        "            db_connection.close()\n",
        "            print(\"Database connection closed.\")\n",
        "        except NameError:\n",
        "            print(\"No active database connection to close.\")\n",
        "\n",
        "\n"
      ]
    },
    {
      "cell_type": "markdown",
      "metadata": {
        "id": "8fygsyF5sOYZ"
      },
      "source": [
        "# DATA ANALYSIS"
      ]
    },
    {
      "cell_type": "markdown",
      "source": [
        "Get the Stored Data from the Database to a csv file."
      ],
      "metadata": {
        "id": "qmu5d56Xs0ww"
      }
    },
    {
      "cell_type": "code",
      "source": [
        "db_connection = create_db_connection()\n",
        "export_to_csv(db_connection)\n",
        "db_connection.close()"
      ],
      "metadata": {
        "id": "sc-mBsCCsz-W"
      },
      "execution_count": null,
      "outputs": []
    },
    {
      "cell_type": "markdown",
      "source": [
        "Read in Stored Data"
      ],
      "metadata": {
        "id": "PvaGEGwOPh6l"
      }
    },
    {
      "cell_type": "code",
      "execution_count": null,
      "metadata": {
        "colab": {
          "base_uri": "https://localhost:8080/",
          "height": 206
        },
        "id": "PaTeNP0EPKmf",
        "outputId": "67103d76-d518-4a24-a199-b11f6a648745"
      },
      "outputs": [
        {
          "output_type": "execute_result",
          "data": {
            "text/plain": [
              "     TrendName                                          TrendLink  \\\n",
              "9559  Warriors  https://hoopshype.com/2023/11/28/warriors-vs-k...   \n",
              "9560  Warriors  https://www.cbssports.com/nba/news/warriors-vs...   \n",
              "9561  Warriors  https://bluemanhoop.com/golden-state-warriors-...   \n",
              "9562  Warriors  https://www.eastbaytimes.com/sports/nba/golden...   \n",
              "9563  Warriors                https://www.nba.com/warriors/videos   \n",
              "\n",
              "     VirusTotalResult        DiscoveryTime  \n",
              "9559       Clean site  2023-11-29 03:00:00  \n",
              "9560       Clean site  2023-11-28 12:38:00  \n",
              "9561       Clean site  2023-11-25 00:00:00  \n",
              "9562       Clean site  2023-11-21 00:00:00  \n",
              "9563       Clean site  2023-11-26 00:00:00  "
            ],
            "text/html": [
              "\n",
              "  <div id=\"df-09e41daf-530f-41bf-94b2-7d1658adfd80\" class=\"colab-df-container\">\n",
              "    <div>\n",
              "<style scoped>\n",
              "    .dataframe tbody tr th:only-of-type {\n",
              "        vertical-align: middle;\n",
              "    }\n",
              "\n",
              "    .dataframe tbody tr th {\n",
              "        vertical-align: top;\n",
              "    }\n",
              "\n",
              "    .dataframe thead th {\n",
              "        text-align: right;\n",
              "    }\n",
              "</style>\n",
              "<table border=\"1\" class=\"dataframe\">\n",
              "  <thead>\n",
              "    <tr style=\"text-align: right;\">\n",
              "      <th></th>\n",
              "      <th>TrendName</th>\n",
              "      <th>TrendLink</th>\n",
              "      <th>VirusTotalResult</th>\n",
              "      <th>DiscoveryTime</th>\n",
              "    </tr>\n",
              "  </thead>\n",
              "  <tbody>\n",
              "    <tr>\n",
              "      <th>9559</th>\n",
              "      <td>Warriors</td>\n",
              "      <td>https://hoopshype.com/2023/11/28/warriors-vs-k...</td>\n",
              "      <td>Clean site</td>\n",
              "      <td>2023-11-29 03:00:00</td>\n",
              "    </tr>\n",
              "    <tr>\n",
              "      <th>9560</th>\n",
              "      <td>Warriors</td>\n",
              "      <td>https://www.cbssports.com/nba/news/warriors-vs...</td>\n",
              "      <td>Clean site</td>\n",
              "      <td>2023-11-28 12:38:00</td>\n",
              "    </tr>\n",
              "    <tr>\n",
              "      <th>9561</th>\n",
              "      <td>Warriors</td>\n",
              "      <td>https://bluemanhoop.com/golden-state-warriors-...</td>\n",
              "      <td>Clean site</td>\n",
              "      <td>2023-11-25 00:00:00</td>\n",
              "    </tr>\n",
              "    <tr>\n",
              "      <th>9562</th>\n",
              "      <td>Warriors</td>\n",
              "      <td>https://www.eastbaytimes.com/sports/nba/golden...</td>\n",
              "      <td>Clean site</td>\n",
              "      <td>2023-11-21 00:00:00</td>\n",
              "    </tr>\n",
              "    <tr>\n",
              "      <th>9563</th>\n",
              "      <td>Warriors</td>\n",
              "      <td>https://www.nba.com/warriors/videos</td>\n",
              "      <td>Clean site</td>\n",
              "      <td>2023-11-26 00:00:00</td>\n",
              "    </tr>\n",
              "  </tbody>\n",
              "</table>\n",
              "</div>\n",
              "    <div class=\"colab-df-buttons\">\n",
              "\n",
              "  <div class=\"colab-df-container\">\n",
              "    <button class=\"colab-df-convert\" onclick=\"convertToInteractive('df-09e41daf-530f-41bf-94b2-7d1658adfd80')\"\n",
              "            title=\"Convert this dataframe to an interactive table.\"\n",
              "            style=\"display:none;\">\n",
              "\n",
              "  <svg xmlns=\"http://www.w3.org/2000/svg\" height=\"24px\" viewBox=\"0 -960 960 960\">\n",
              "    <path d=\"M120-120v-720h720v720H120Zm60-500h600v-160H180v160Zm220 220h160v-160H400v160Zm0 220h160v-160H400v160ZM180-400h160v-160H180v160Zm440 0h160v-160H620v160ZM180-180h160v-160H180v160Zm440 0h160v-160H620v160Z\"/>\n",
              "  </svg>\n",
              "    </button>\n",
              "\n",
              "  <style>\n",
              "    .colab-df-container {\n",
              "      display:flex;\n",
              "      gap: 12px;\n",
              "    }\n",
              "\n",
              "    .colab-df-convert {\n",
              "      background-color: #E8F0FE;\n",
              "      border: none;\n",
              "      border-radius: 50%;\n",
              "      cursor: pointer;\n",
              "      display: none;\n",
              "      fill: #1967D2;\n",
              "      height: 32px;\n",
              "      padding: 0 0 0 0;\n",
              "      width: 32px;\n",
              "    }\n",
              "\n",
              "    .colab-df-convert:hover {\n",
              "      background-color: #E2EBFA;\n",
              "      box-shadow: 0px 1px 2px rgba(60, 64, 67, 0.3), 0px 1px 3px 1px rgba(60, 64, 67, 0.15);\n",
              "      fill: #174EA6;\n",
              "    }\n",
              "\n",
              "    .colab-df-buttons div {\n",
              "      margin-bottom: 4px;\n",
              "    }\n",
              "\n",
              "    [theme=dark] .colab-df-convert {\n",
              "      background-color: #3B4455;\n",
              "      fill: #D2E3FC;\n",
              "    }\n",
              "\n",
              "    [theme=dark] .colab-df-convert:hover {\n",
              "      background-color: #434B5C;\n",
              "      box-shadow: 0px 1px 3px 1px rgba(0, 0, 0, 0.15);\n",
              "      filter: drop-shadow(0px 1px 2px rgba(0, 0, 0, 0.3));\n",
              "      fill: #FFFFFF;\n",
              "    }\n",
              "  </style>\n",
              "\n",
              "    <script>\n",
              "      const buttonEl =\n",
              "        document.querySelector('#df-09e41daf-530f-41bf-94b2-7d1658adfd80 button.colab-df-convert');\n",
              "      buttonEl.style.display =\n",
              "        google.colab.kernel.accessAllowed ? 'block' : 'none';\n",
              "\n",
              "      async function convertToInteractive(key) {\n",
              "        const element = document.querySelector('#df-09e41daf-530f-41bf-94b2-7d1658adfd80');\n",
              "        const dataTable =\n",
              "          await google.colab.kernel.invokeFunction('convertToInteractive',\n",
              "                                                    [key], {});\n",
              "        if (!dataTable) return;\n",
              "\n",
              "        const docLinkHtml = 'Like what you see? Visit the ' +\n",
              "          '<a target=\"_blank\" href=https://colab.research.google.com/notebooks/data_table.ipynb>data table notebook</a>'\n",
              "          + ' to learn more about interactive tables.';\n",
              "        element.innerHTML = '';\n",
              "        dataTable['output_type'] = 'display_data';\n",
              "        await google.colab.output.renderOutput(dataTable, element);\n",
              "        const docLink = document.createElement('div');\n",
              "        docLink.innerHTML = docLinkHtml;\n",
              "        element.appendChild(docLink);\n",
              "      }\n",
              "    </script>\n",
              "  </div>\n",
              "\n",
              "\n",
              "<div id=\"df-2cd21775-99c9-43ef-9157-9477f42b08b9\">\n",
              "  <button class=\"colab-df-quickchart\" onclick=\"quickchart('df-2cd21775-99c9-43ef-9157-9477f42b08b9')\"\n",
              "            title=\"Suggest charts\"\n",
              "            style=\"display:none;\">\n",
              "\n",
              "<svg xmlns=\"http://www.w3.org/2000/svg\" height=\"24px\"viewBox=\"0 0 24 24\"\n",
              "     width=\"24px\">\n",
              "    <g>\n",
              "        <path d=\"M19 3H5c-1.1 0-2 .9-2 2v14c0 1.1.9 2 2 2h14c1.1 0 2-.9 2-2V5c0-1.1-.9-2-2-2zM9 17H7v-7h2v7zm4 0h-2V7h2v10zm4 0h-2v-4h2v4z\"/>\n",
              "    </g>\n",
              "</svg>\n",
              "  </button>\n",
              "\n",
              "<style>\n",
              "  .colab-df-quickchart {\n",
              "      --bg-color: #E8F0FE;\n",
              "      --fill-color: #1967D2;\n",
              "      --hover-bg-color: #E2EBFA;\n",
              "      --hover-fill-color: #174EA6;\n",
              "      --disabled-fill-color: #AAA;\n",
              "      --disabled-bg-color: #DDD;\n",
              "  }\n",
              "\n",
              "  [theme=dark] .colab-df-quickchart {\n",
              "      --bg-color: #3B4455;\n",
              "      --fill-color: #D2E3FC;\n",
              "      --hover-bg-color: #434B5C;\n",
              "      --hover-fill-color: #FFFFFF;\n",
              "      --disabled-bg-color: #3B4455;\n",
              "      --disabled-fill-color: #666;\n",
              "  }\n",
              "\n",
              "  .colab-df-quickchart {\n",
              "    background-color: var(--bg-color);\n",
              "    border: none;\n",
              "    border-radius: 50%;\n",
              "    cursor: pointer;\n",
              "    display: none;\n",
              "    fill: var(--fill-color);\n",
              "    height: 32px;\n",
              "    padding: 0;\n",
              "    width: 32px;\n",
              "  }\n",
              "\n",
              "  .colab-df-quickchart:hover {\n",
              "    background-color: var(--hover-bg-color);\n",
              "    box-shadow: 0 1px 2px rgba(60, 64, 67, 0.3), 0 1px 3px 1px rgba(60, 64, 67, 0.15);\n",
              "    fill: var(--button-hover-fill-color);\n",
              "  }\n",
              "\n",
              "  .colab-df-quickchart-complete:disabled,\n",
              "  .colab-df-quickchart-complete:disabled:hover {\n",
              "    background-color: var(--disabled-bg-color);\n",
              "    fill: var(--disabled-fill-color);\n",
              "    box-shadow: none;\n",
              "  }\n",
              "\n",
              "  .colab-df-spinner {\n",
              "    border: 2px solid var(--fill-color);\n",
              "    border-color: transparent;\n",
              "    border-bottom-color: var(--fill-color);\n",
              "    animation:\n",
              "      spin 1s steps(1) infinite;\n",
              "  }\n",
              "\n",
              "  @keyframes spin {\n",
              "    0% {\n",
              "      border-color: transparent;\n",
              "      border-bottom-color: var(--fill-color);\n",
              "      border-left-color: var(--fill-color);\n",
              "    }\n",
              "    20% {\n",
              "      border-color: transparent;\n",
              "      border-left-color: var(--fill-color);\n",
              "      border-top-color: var(--fill-color);\n",
              "    }\n",
              "    30% {\n",
              "      border-color: transparent;\n",
              "      border-left-color: var(--fill-color);\n",
              "      border-top-color: var(--fill-color);\n",
              "      border-right-color: var(--fill-color);\n",
              "    }\n",
              "    40% {\n",
              "      border-color: transparent;\n",
              "      border-right-color: var(--fill-color);\n",
              "      border-top-color: var(--fill-color);\n",
              "    }\n",
              "    60% {\n",
              "      border-color: transparent;\n",
              "      border-right-color: var(--fill-color);\n",
              "    }\n",
              "    80% {\n",
              "      border-color: transparent;\n",
              "      border-right-color: var(--fill-color);\n",
              "      border-bottom-color: var(--fill-color);\n",
              "    }\n",
              "    90% {\n",
              "      border-color: transparent;\n",
              "      border-bottom-color: var(--fill-color);\n",
              "    }\n",
              "  }\n",
              "</style>\n",
              "\n",
              "  <script>\n",
              "    async function quickchart(key) {\n",
              "      const quickchartButtonEl =\n",
              "        document.querySelector('#' + key + ' button');\n",
              "      quickchartButtonEl.disabled = true;  // To prevent multiple clicks.\n",
              "      quickchartButtonEl.classList.add('colab-df-spinner');\n",
              "      try {\n",
              "        const charts = await google.colab.kernel.invokeFunction(\n",
              "            'suggestCharts', [key], {});\n",
              "      } catch (error) {\n",
              "        console.error('Error during call to suggestCharts:', error);\n",
              "      }\n",
              "      quickchartButtonEl.classList.remove('colab-df-spinner');\n",
              "      quickchartButtonEl.classList.add('colab-df-quickchart-complete');\n",
              "    }\n",
              "    (() => {\n",
              "      let quickchartButtonEl =\n",
              "        document.querySelector('#df-2cd21775-99c9-43ef-9157-9477f42b08b9 button');\n",
              "      quickchartButtonEl.style.display =\n",
              "        google.colab.kernel.accessAllowed ? 'block' : 'none';\n",
              "    })();\n",
              "  </script>\n",
              "</div>\n",
              "    </div>\n",
              "  </div>\n"
            ]
          },
          "metadata": {},
          "execution_count": 12
        }
      ],
      "source": [
        "#with open('trendresults.csv', 'r') as csv_file:\n",
        "data = pd.read_csv('data.csv')\n",
        "data.tail()\n"
      ]
    },
    {
      "cell_type": "markdown",
      "source": [
        "Data Refinement and Manipulation"
      ],
      "metadata": {
        "id": "RshZICkEPnUJ"
      }
    },
    {
      "cell_type": "code",
      "execution_count": null,
      "metadata": {
        "colab": {
          "base_uri": "https://localhost:8080/"
        },
        "id": "54F0QnpoP3A8",
        "outputId": "ff1cd793-9cd7-4191-e7f6-5ef3cb7b689d"
      },
      "outputs": [
        {
          "output_type": "execute_result",
          "data": {
            "text/plain": [
              "(9564, 4)"
            ]
          },
          "metadata": {},
          "execution_count": 13
        }
      ],
      "source": [
        "data.shape"
      ]
    },
    {
      "cell_type": "code",
      "execution_count": null,
      "metadata": {
        "colab": {
          "base_uri": "https://localhost:8080/"
        },
        "id": "gYqXdZTMRkjg",
        "outputId": "da967008-af75-408b-ebd1-6a3883d023df"
      },
      "outputs": [
        {
          "output_type": "execute_result",
          "data": {
            "text/plain": [
              "(9564, 4)"
            ]
          },
          "metadata": {},
          "execution_count": 14
        }
      ],
      "source": [
        "data.drop_duplicates()\n",
        "data.shape"
      ]
    },
    {
      "cell_type": "code",
      "execution_count": null,
      "metadata": {
        "colab": {
          "base_uri": "https://localhost:8080/"
        },
        "id": "B3lkQ2afUtWG",
        "outputId": "3a093fd6-d9ad-4c26-e92b-126e79584ec8"
      },
      "outputs": [
        {
          "output_type": "stream",
          "name": "stdout",
          "text": [
            "<class 'pandas.core.frame.DataFrame'>\n",
            "RangeIndex: 9564 entries, 0 to 9563\n",
            "Data columns (total 4 columns):\n",
            " #   Column            Non-Null Count  Dtype \n",
            "---  ------            --------------  ----- \n",
            " 0   TrendName         9564 non-null   object\n",
            " 1   TrendLink         9564 non-null   object\n",
            " 2   VirusTotalResult  9563 non-null   object\n",
            " 3   DiscoveryTime     7194 non-null   object\n",
            "dtypes: object(4)\n",
            "memory usage: 299.0+ KB\n"
          ]
        }
      ],
      "source": [
        "data.info()"
      ]
    },
    {
      "cell_type": "code",
      "execution_count": null,
      "metadata": {
        "id": "x4GosEwVB6dG"
      },
      "outputs": [],
      "source": [
        "# Convert DiscoveryTime to datetime and filter out invalid timestamps\n",
        "data['DiscoveryTime'] = pd.to_datetime(data['DiscoveryTime'], errors='coerce')\n",
        "data_with_time = data.dropna(subset=['DiscoveryTime'])"
      ]
    },
    {
      "cell_type": "code",
      "execution_count": null,
      "metadata": {
        "colab": {
          "base_uri": "https://localhost:8080/"
        },
        "id": "85tDCdgaTVDE",
        "outputId": "fe93e836-9c0a-4ae5-862e-62b9b4829876"
      },
      "outputs": [
        {
          "output_type": "execute_result",
          "data": {
            "text/plain": [
              "(6711, 4)"
            ]
          },
          "metadata": {},
          "execution_count": 17
        }
      ],
      "source": [
        "data_with_time.shape"
      ]
    },
    {
      "cell_type": "markdown",
      "metadata": {
        "id": "zRTLmhvTtCiA"
      },
      "source": [
        "Frequency Analysis of Malicious Sites"
      ]
    },
    {
      "cell_type": "code",
      "execution_count": null,
      "metadata": {
        "colab": {
          "base_uri": "https://localhost:8080/",
          "height": 1000
        },
        "id": "hQacOwYgTYav",
        "outputId": "c88b2f46-b954-4d43-84e0-b7dbeea90ca9"
      },
      "outputs": [
        {
          "output_type": "display_data",
          "data": {
            "text/plain": [
              "<Figure size 1400x700 with 1 Axes>"
            ],
            "image/png": "[encoded data removed]"
          },
          "metadata": {}
        },
        {
          "output_type": "stream",
          "name": "stderr",
          "text": [
            "<ipython-input-18-23e8c9daa506>:30: SettingWithCopyWarning: \n",
            "A value is trying to be set on a copy of a slice from a DataFrame.\n",
            "Try using .loc[row_indexer,col_indexer] = value instead\n",
            "\n",
            "See the caveats in the documentation: https://pandas.pydata.org/pandas-docs/stable/user_guide/indexing.html#returning-a-view-versus-a-copy\n",
            "  data_with_time['MaliciousIndicator'] = (data_with_time['VirusTotalResult'] == 'Malicious site').astype(int)\n",
            "<ipython-input-18-23e8c9daa506>:60: SettingWithCopyWarning: \n",
            "A value is trying to be set on a copy of a slice from a DataFrame.\n",
            "Try using .loc[row_indexer,col_indexer] = value instead\n",
            "\n",
            "See the caveats in the documentation: https://pandas.pydata.org/pandas-docs/stable/user_guide/indexing.html#returning-a-view-versus-a-copy\n",
            "  data_with_time['Domain'], data_with_time['Path'] = zip(*data_with_time['TrendLink'].map(extract_url_parts))\n",
            "<ipython-input-18-23e8c9daa506>:60: SettingWithCopyWarning: \n",
            "A value is trying to be set on a copy of a slice from a DataFrame.\n",
            "Try using .loc[row_indexer,col_indexer] = value instead\n",
            "\n",
            "See the caveats in the documentation: https://pandas.pydata.org/pandas-docs/stable/user_guide/indexing.html#returning-a-view-versus-a-copy\n",
            "  data_with_time['Domain'], data_with_time['Path'] = zip(*data_with_time['TrendLink'].map(extract_url_parts))\n",
            "<ipython-input-18-23e8c9daa506>:67: SettingWithCopyWarning: \n",
            "A value is trying to be set on a copy of a slice from a DataFrame.\n",
            "Try using .loc[row_indexer,col_indexer] = value instead\n",
            "\n",
            "See the caveats in the documentation: https://pandas.pydata.org/pandas-docs/stable/user_guide/indexing.html#returning-a-view-versus-a-copy\n",
            "  malicious_urls['PathStart'] = malicious_urls['Path'].apply(lambda x: x.split('/')[1] if len(x.split('/')) > 1 else x)\n"
          ]
        },
        {
          "output_type": "execute_result",
          "data": {
            "text/plain": [
              "(www.sotwe.com               68\n",
              " t.co                        14\n",
              " www.wsj.com                  9\n",
              " www.givingtuesday.org        4\n",
              " awfulannouncing.com          3\n",
              " www.cbtnuggets.com           2\n",
              " www.r1s1sports.com           2\n",
              " www.max.com                  2\n",
              " www.tvseasonspoilers.com     2\n",
              " www.marwar.com               2\n",
              " Name: Domain, dtype: int64,\n",
              " hashtag                                       25\n",
              "                                               10\n",
              " search                                         7\n",
              " 2023                                           5\n",
              " articles                                       5\n",
              " news                                           4\n",
              " new                                            2\n",
              " finance                                        2\n",
              " moments-that-popped-kansas-99-manhattan-61     2\n",
              " Izyvybez                                       2\n",
              " Name: PathStart, dtype: int64)"
            ]
          },
          "metadata": {},
          "execution_count": 18
        }
      ],
      "source": [
        "# Frequency Analysis\n",
        "# Filter out the data for malicious sites\n",
        "malicious_sites_data = data[data['VirusTotalResult'] == 'Malicious site']\n",
        "\n",
        "# Count the occurrence of each trend name associated with malicious sites\n",
        "malicious_trends_count = malicious_sites_data['TrendName'].value_counts().reset_index()\n",
        "malicious_trends_count.columns = ['TrendName', 'MaliciousCount']\n",
        "\n",
        "# Display the count of malicious trends\n",
        "malicious_trends_count.head()\n",
        "\n",
        "# Trend Over Time\n",
        "# Filter for malicious sites for the temporal analysis\n",
        "malicious_sites_time_data = data_with_time[data_with_time['VirusTotalResult'] == 'Malicious site']\n",
        "\n",
        "# Group by DiscoveryTime by date and count occurrences of malicious sites\n",
        "malicious_sites_over_time = malicious_sites_time_data.groupby(malicious_sites_time_data['DiscoveryTime'].dt.date).size()\n",
        "\n",
        "# Plotting the frequency of malicious site detections over time\n",
        "plt.figure(figsize=(14, 7))\n",
        "malicious_sites_over_time.plot(kind='line', color='red')\n",
        "plt.title('Frequency of Malicious Site Detection Over Time')\n",
        "plt.xlabel('Date')\n",
        "plt.ylabel('Number of Malicious Site Detections')\n",
        "plt.grid(True)\n",
        "plt.show()\n",
        "\n",
        "# Correlation Analysis\n",
        "# Convert VirusTotalResult to a binary indicator: 1 for Malicious site, 0 for Clean site\n",
        "data_with_time['MaliciousIndicator'] = (data_with_time['VirusTotalResult'] == 'Malicious site').astype(int)\n",
        "\n",
        "# Count the total occurrences of each trend name\n",
        "total_trends_count = data_with_time['TrendName'].value_counts().reset_index()\n",
        "total_trends_count.columns = ['TrendName', 'TotalCount']\n",
        "\n",
        "# Merge the malicious count with the total count for each trend name\n",
        "trend_correlation_data = pd.merge(malicious_trends_count, total_trends_count, on='TrendName')\n",
        "\n",
        "# Calculate the proportion of malicious occurrences for each trend name\n",
        "trend_correlation_data['MaliciousProportion'] = trend_correlation_data['MaliciousCount'] / trend_correlation_data['TotalCount']\n",
        "\n",
        "# Perform a correlation analysis between TotalCount and MaliciousProportion\n",
        "correlation_result = trend_correlation_data[['TotalCount', 'MaliciousProportion']].corr()\n",
        "\n",
        "# Display the correlation results\n",
        "correlation_result\n",
        "\n",
        "# Link Analysis\n",
        "# Function to extract domain and path from URL\n",
        "def extract_url_parts(url):\n",
        "    try:\n",
        "        parsed_url = urllib.parse.urlparse(url)\n",
        "        domain = parsed_url.netloc\n",
        "        path = parsed_url.path\n",
        "        return domain, path\n",
        "    except Exception as e:\n",
        "        return \"error\", \"error\"\n",
        "\n",
        "# Apply the function to the TrendLink column for the entire dataset\n",
        "data_with_time['Domain'], data_with_time['Path'] = zip(*data_with_time['TrendLink'].map(extract_url_parts))\n",
        "\n",
        "# Focus on the malicious URLs\n",
        "malicious_urls = data_with_time[data_with_time['MaliciousIndicator'] == 1]\n",
        "\n",
        "# Most common domains and path beginnings for malicious URLs\n",
        "common_domains_malicious = malicious_urls['Domain'].value_counts().head(10)\n",
        "malicious_urls['PathStart'] = malicious_urls['Path'].apply(lambda x: x.split('/')[1] if len(x.split('/')) > 1 else x)\n",
        "common_paths_malicious = malicious_urls['PathStart'].value_counts().head(10)\n",
        "\n",
        "# Display the most common domains and path starts\n",
        "common_domains_malicious, common_paths_malicious"
      ]
    },
    {
      "cell_type": "code",
      "execution_count": null,
      "metadata": {
        "colab": {
          "base_uri": "https://localhost:8080/",
          "height": 112
        },
        "id": "Lskp2pWUcMq1",
        "outputId": "cb5ecba4-72ec-425a-9348-a580f297fe2a"
      },
      "outputs": [
        {
          "output_type": "execute_result",
          "data": {
            "text/plain": [
              "                     TotalCount  MaliciousProportion\n",
              "TotalCount              1.00000             -0.41236\n",
              "MaliciousProportion    -0.41236              1.00000"
            ],
            "text/html": [
              "\n",
              "  <div id=\"df-a9d1304f-e65e-4538-8c49-4e5ec92e2484\" class=\"colab-df-container\">\n",
              "    <div>\n",
              "<style scoped>\n",
              "    .dataframe tbody tr th:only-of-type {\n",
              "        vertical-align: middle;\n",
              "    }\n",
              "\n",
              "    .dataframe tbody tr th {\n",
              "        vertical-align: top;\n",
              "    }\n",
              "\n",
              "    .dataframe thead th {\n",
              "        text-align: right;\n",
              "    }\n",
              "</style>\n",
              "<table border=\"1\" class=\"dataframe\">\n",
              "  <thead>\n",
              "    <tr style=\"text-align: right;\">\n",
              "      <th></th>\n",
              "      <th>TotalCount</th>\n",
              "      <th>MaliciousProportion</th>\n",
              "    </tr>\n",
              "  </thead>\n",
              "  <tbody>\n",
              "    <tr>\n",
              "      <th>TotalCount</th>\n",
              "      <td>1.00000</td>\n",
              "      <td>-0.41236</td>\n",
              "    </tr>\n",
              "    <tr>\n",
              "      <th>MaliciousProportion</th>\n",
              "      <td>-0.41236</td>\n",
              "      <td>1.00000</td>\n",
              "    </tr>\n",
              "  </tbody>\n",
              "</table>\n",
              "</div>\n",
              "    <div class=\"colab-df-buttons\">\n",
              "\n",
              "  <div class=\"colab-df-container\">\n",
              "    <button class=\"colab-df-convert\" onclick=\"convertToInteractive('df-a9d1304f-e65e-4538-8c49-4e5ec92e2484')\"\n",
              "            title=\"Convert this dataframe to an interactive table.\"\n",
              "            style=\"display:none;\">\n",
              "\n",
              "  <svg xmlns=\"http://www.w3.org/2000/svg\" height=\"24px\" viewBox=\"0 -960 960 960\">\n",
              "    <path d=\"M120-120v-720h720v720H120Zm60-500h600v-160H180v160Zm220 220h160v-160H400v160Zm0 220h160v-160H400v160ZM180-400h160v-160H180v160Zm440 0h160v-160H620v160ZM180-180h160v-160H180v160Zm440 0h160v-160H620v160Z\"/>\n",
              "  </svg>\n",
              "    </button>\n",
              "\n",
              "  <style>\n",
              "    .colab-df-container {\n",
              "      display:flex;\n",
              "      gap: 12px;\n",
              "    }\n",
              "\n",
              "    .colab-df-convert {\n",
              "      background-color: #E8F0FE;\n",
              "      border: none;\n",
              "      border-radius: 50%;\n",
              "      cursor: pointer;\n",
              "      display: none;\n",
              "      fill: #1967D2;\n",
              "      height: 32px;\n",
              "      padding: 0 0 0 0;\n",
              "      width: 32px;\n",
              "    }\n",
              "\n",
              "    .colab-df-convert:hover {\n",
              "      background-color: #E2EBFA;\n",
              "      box-shadow: 0px 1px 2px rgba(60, 64, 67, 0.3), 0px 1px 3px 1px rgba(60, 64, 67, 0.15);\n",
              "      fill: #174EA6;\n",
              "    }\n",
              "\n",
              "    .colab-df-buttons div {\n",
              "      margin-bottom: 4px;\n",
              "    }\n",
              "\n",
              "    [theme=dark] .colab-df-convert {\n",
              "      background-color: #3B4455;\n",
              "      fill: #D2E3FC;\n",
              "    }\n",
              "\n",
              "    [theme=dark] .colab-df-convert:hover {\n",
              "      background-color: #434B5C;\n",
              "      box-shadow: 0px 1px 3px 1px rgba(0, 0, 0, 0.15);\n",
              "      filter: drop-shadow(0px 1px 2px rgba(0, 0, 0, 0.3));\n",
              "      fill: #FFFFFF;\n",
              "    }\n",
              "  </style>\n",
              "\n",
              "    <script>\n",
              "      const buttonEl =\n",
              "        document.querySelector('#df-a9d1304f-e65e-4538-8c49-4e5ec92e2484 button.colab-df-convert');\n",
              "      buttonEl.style.display =\n",
              "        google.colab.kernel.accessAllowed ? 'block' : 'none';\n",
              "\n",
              "      async function convertToInteractive(key) {\n",
              "        const element = document.querySelector('#df-a9d1304f-e65e-4538-8c49-4e5ec92e2484');\n",
              "        const dataTable =\n",
              "          await google.colab.kernel.invokeFunction('convertToInteractive',\n",
              "                                                    [key], {});\n",
              "        if (!dataTable) return;\n",
              "\n",
              "        const docLinkHtml = 'Like what you see? Visit the ' +\n",
              "          '<a target=\"_blank\" href=https://colab.research.google.com/notebooks/data_table.ipynb>data table notebook</a>'\n",
              "          + ' to learn more about interactive tables.';\n",
              "        element.innerHTML = '';\n",
              "        dataTable['output_type'] = 'display_data';\n",
              "        await google.colab.output.renderOutput(dataTable, element);\n",
              "        const docLink = document.createElement('div');\n",
              "        docLink.innerHTML = docLinkHtml;\n",
              "        element.appendChild(docLink);\n",
              "      }\n",
              "    </script>\n",
              "  </div>\n",
              "\n",
              "\n",
              "<div id=\"df-23b35356-df68-4ab8-924e-f222c0c921b2\">\n",
              "  <button class=\"colab-df-quickchart\" onclick=\"quickchart('df-23b35356-df68-4ab8-924e-f222c0c921b2')\"\n",
              "            title=\"Suggest charts\"\n",
              "            style=\"display:none;\">\n",
              "\n",
              "<svg xmlns=\"http://www.w3.org/2000/svg\" height=\"24px\"viewBox=\"0 0 24 24\"\n",
              "     width=\"24px\">\n",
              "    <g>\n",
              "        <path d=\"M19 3H5c-1.1 0-2 .9-2 2v14c0 1.1.9 2 2 2h14c1.1 0 2-.9 2-2V5c0-1.1-.9-2-2-2zM9 17H7v-7h2v7zm4 0h-2V7h2v10zm4 0h-2v-4h2v4z\"/>\n",
              "    </g>\n",
              "</svg>\n",
              "  </button>\n",
              "\n",
              "<style>\n",
              "  .colab-df-quickchart {\n",
              "      --bg-color: #E8F0FE;\n",
              "      --fill-color: #1967D2;\n",
              "      --hover-bg-color: #E2EBFA;\n",
              "      --hover-fill-color: #174EA6;\n",
              "      --disabled-fill-color: #AAA;\n",
              "      --disabled-bg-color: #DDD;\n",
              "  }\n",
              "\n",
              "  [theme=dark] .colab-df-quickchart {\n",
              "      --bg-color: #3B4455;\n",
              "      --fill-color: #D2E3FC;\n",
              "      --hover-bg-color: #434B5C;\n",
              "      --hover-fill-color: #FFFFFF;\n",
              "      --disabled-bg-color: #3B4455;\n",
              "      --disabled-fill-color: #666;\n",
              "  }\n",
              "\n",
              "  .colab-df-quickchart {\n",
              "    background-color: var(--bg-color);\n",
              "    border: none;\n",
              "    border-radius: 50%;\n",
              "    cursor: pointer;\n",
              "    display: none;\n",
              "    fill: var(--fill-color);\n",
              "    height: 32px;\n",
              "    padding: 0;\n",
              "    width: 32px;\n",
              "  }\n",
              "\n",
              "  .colab-df-quickchart:hover {\n",
              "    background-color: var(--hover-bg-color);\n",
              "    box-shadow: 0 1px 2px rgba(60, 64, 67, 0.3), 0 1px 3px 1px rgba(60, 64, 67, 0.15);\n",
              "    fill: var(--button-hover-fill-color);\n",
              "  }\n",
              "\n",
              "  .colab-df-quickchart-complete:disabled,\n",
              "  .colab-df-quickchart-complete:disabled:hover {\n",
              "    background-color: var(--disabled-bg-color);\n",
              "    fill: var(--disabled-fill-color);\n",
              "    box-shadow: none;\n",
              "  }\n",
              "\n",
              "  .colab-df-spinner {\n",
              "    border: 2px solid var(--fill-color);\n",
              "    border-color: transparent;\n",
              "    border-bottom-color: var(--fill-color);\n",
              "    animation:\n",
              "      spin 1s steps(1) infinite;\n",
              "  }\n",
              "\n",
              "  @keyframes spin {\n",
              "    0% {\n",
              "      border-color: transparent;\n",
              "      border-bottom-color: var(--fill-color);\n",
              "      border-left-color: var(--fill-color);\n",
              "    }\n",
              "    20% {\n",
              "      border-color: transparent;\n",
              "      border-left-color: var(--fill-color);\n",
              "      border-top-color: var(--fill-color);\n",
              "    }\n",
              "    30% {\n",
              "      border-color: transparent;\n",
              "      border-left-color: var(--fill-color);\n",
              "      border-top-color: var(--fill-color);\n",
              "      border-right-color: var(--fill-color);\n",
              "    }\n",
              "    40% {\n",
              "      border-color: transparent;\n",
              "      border-right-color: var(--fill-color);\n",
              "      border-top-color: var(--fill-color);\n",
              "    }\n",
              "    60% {\n",
              "      border-color: transparent;\n",
              "      border-right-color: var(--fill-color);\n",
              "    }\n",
              "    80% {\n",
              "      border-color: transparent;\n",
              "      border-right-color: var(--fill-color);\n",
              "      border-bottom-color: var(--fill-color);\n",
              "    }\n",
              "    90% {\n",
              "      border-color: transparent;\n",
              "      border-bottom-color: var(--fill-color);\n",
              "    }\n",
              "  }\n",
              "</style>\n",
              "\n",
              "  <script>\n",
              "    async function quickchart(key) {\n",
              "      const quickchartButtonEl =\n",
              "        document.querySelector('#' + key + ' button');\n",
              "      quickchartButtonEl.disabled = true;  // To prevent multiple clicks.\n",
              "      quickchartButtonEl.classList.add('colab-df-spinner');\n",
              "      try {\n",
              "        const charts = await google.colab.kernel.invokeFunction(\n",
              "            'suggestCharts', [key], {});\n",
              "      } catch (error) {\n",
              "        console.error('Error during call to suggestCharts:', error);\n",
              "      }\n",
              "      quickchartButtonEl.classList.remove('colab-df-spinner');\n",
              "      quickchartButtonEl.classList.add('colab-df-quickchart-complete');\n",
              "    }\n",
              "    (() => {\n",
              "      let quickchartButtonEl =\n",
              "        document.querySelector('#df-23b35356-df68-4ab8-924e-f222c0c921b2 button');\n",
              "      quickchartButtonEl.style.display =\n",
              "        google.colab.kernel.accessAllowed ? 'block' : 'none';\n",
              "    })();\n",
              "  </script>\n",
              "</div>\n",
              "    </div>\n",
              "  </div>\n"
            ]
          },
          "metadata": {},
          "execution_count": 19
        }
      ],
      "source": [
        "correlation_result"
      ]
    },
    {
      "cell_type": "markdown",
      "metadata": {
        "id": "i_OkX6u3EQYz"
      },
      "source": [
        "**Possible Insights**\n",
        "\n",
        "1. Frequency of Malicious Trends: Malicious sites are more frequently associated with certain trending terms such us #justprayforme and #NickiMail, suggesting that malicious actors target popular terms often for greater impact\n",
        "\n",
        "2. Trend Over Time: The number of malicious site detections fluctuates over time, indicating that malicious activity is not constant and may correlate with external factors such as current events, popularity of trends, or eveolving tactics of malicious actors\n",
        "\n",
        "3. Negative correlation: There is a negative correlation between the frequency of a trend and its association with malicious sites. This means that popular trends do not necessarily have a higher proportion of malicious links and represent a smaller proportion of the overall mentions of that trend\n",
        "\n",
        "4. Common Domains and Paths: The analysis revealed that certain domains and URL paths are more commonly associated with malicious sites. For example, Twitter's URL shortener (t.co) and www.sotwe.com were among common domains. This suggests that attackers may use certain platforms or disguise their links using URL shorteners to hide the malicious destination\n",
        "\n",
        "5. Patterns in Malicious URLs: The analysis of URL structures showed that paths beginning with /hashtag and other specific patterns are commonly found in malicious URLs. This could indicate a strategy of mimicking social media navigation to trick users."
      ]
    },
    {
      "cell_type": "markdown",
      "source": [
        "Malicious Trend Count"
      ],
      "metadata": {
        "id": "6Dpd8vdpPwzm"
      }
    },
    {
      "cell_type": "code",
      "source": [
        "# Assuming malicious_trends_count is the DataFrame with trend names and their counts\n",
        "top_trends = malicious_trends_count.head(20)\n",
        "plt.figure(figsize=(10, 6))\n",
        "sns.barplot(x='MaliciousCount', y='TrendName', data=top_trends)\n",
        "plt.title('Top Trend Names Associated with Malicious Sites')\n",
        "plt.xlabel('Count of Malicious Associations')\n",
        "plt.ylabel('Trend Name')\n",
        "plt.show()"
      ],
      "metadata": {
        "colab": {
          "base_uri": "https://localhost:8080/",
          "height": 564
        },
        "id": "cfQahzCTP672",
        "outputId": "ff654c06-4ed4-4066-926a-c69732e006e2"
      },
      "execution_count": null,
      "outputs": [
        {
          "output_type": "display_data",
          "data": {
            "text/plain": [
              "<Figure size 1000x600 with 1 Axes>"
            ],
            "image/png": "[encoded data removed]"
          },
          "metadata": {}
        }
      ]
    },
    {
      "cell_type": "markdown",
      "source": [
        "Heatmap of Top Trend Names and Days of the Week"
      ],
      "metadata": {
        "id": "TuIYsLwCSHwT"
      }
    },
    {
      "cell_type": "code",
      "source": [
        "# Create the DayOfWeek column\n",
        "data_with_time['DayOfWeek'] = data_with_time['DiscoveryTime'].dt.day_name()\n",
        "# Identify the top 10 trend names based on the sum of MaliciousIndicator\n",
        "top_trends = data_with_time.groupby('TrendName')['MaliciousIndicator'].sum().nlargest(10).index\n",
        "\n",
        "# Filter the data to include only the top 10 trend names\n",
        "filtered_data = data_with_time[data_with_time['TrendName'].isin(top_trends)]\n",
        "\n",
        "# Create a pivot table for the heatmap\n",
        "pivot_table = pd.pivot_table(filtered_data, values='MaliciousIndicator',\n",
        "                             index='TrendName', columns='DayOfWeek', aggfunc='sum')\n",
        "\n",
        "# Plotting the heatmap\n",
        "plt.figure(figsize=(12, 8))\n",
        "sns.heatmap(pivot_table, annot=True, cmap='YlGnBu')\n",
        "plt.title('Heatmap of Top 10 Trend Names and Days of the Week for Malicious Sites')\n",
        "plt.xlabel('Day of the Week')\n",
        "plt.ylabel('Trend Name')\n",
        "plt.show()"
      ],
      "metadata": {
        "colab": {
          "base_uri": "https://localhost:8080/",
          "height": 822
        },
        "id": "iXJcIQuaSNWB",
        "outputId": "e1391a50-c1ec-4500-9093-33112ad3f6b7"
      },
      "execution_count": null,
      "outputs": [
        {
          "output_type": "stream",
          "name": "stderr",
          "text": [
            "<ipython-input-22-d3cb3af5c9ad>:2: SettingWithCopyWarning: \n",
            "A value is trying to be set on a copy of a slice from a DataFrame.\n",
            "Try using .loc[row_indexer,col_indexer] = value instead\n",
            "\n",
            "See the caveats in the documentation: https://pandas.pydata.org/pandas-docs/stable/user_guide/indexing.html#returning-a-view-versus-a-copy\n",
            "  data_with_time['DayOfWeek'] = data_with_time['DiscoveryTime'].dt.day_name()\n"
          ]
        },
        {
          "output_type": "display_data",
          "data": {
            "text/plain": [
              "<Figure size 1200x800 with 2 Axes>"
            ],
            "image/png": "[encoded data removed]"
          },
          "metadata": {}
        }
      ]
    },
    {
      "cell_type": "markdown",
      "source": [
        "Frequency of Trend Names in URLs"
      ],
      "metadata": {
        "id": "Y6-smWa0T0KY"
      }
    },
    {
      "cell_type": "code",
      "source": [
        "# Standardize the strings (lowercase)\n",
        "data['TrendName'] = data['TrendName'].str.lower()\n",
        "data['TrendLink'] = data['TrendLink'].str.lower()\n",
        "\n",
        "# Check if the trend name is in the URL\n",
        "data['TrendInURL'] = data.apply(lambda row: row['TrendName'] in row['TrendLink'], axis=1)\n",
        "\n",
        "# Aggregate the results\n",
        "trend_in_url_summary = data['TrendInURL'].value_counts()\n",
        "\n",
        "# Display the summary\n",
        "print(trend_in_url_summary)\n",
        "\n",
        "# trend_in_url_counts = data['TrendInURL'].value_counts()\n",
        "trend_in_url_counts = {'TrendName in URL': 2320, 'TrendName not in URL': 6135}\n",
        "\n",
        "# Create a bar chart\n",
        "plt.figure(figsize=(8, 5))\n",
        "sns.barplot(x=list(trend_in_url_counts.keys()), y=list(trend_in_url_counts.values()))\n",
        "\n",
        "plt.title('Frequency of Trend Names in URLs')\n",
        "plt.ylabel('Number of Occurrences')\n",
        "plt.xlabel('Trend Name Usage')\n",
        "plt.show()"
      ],
      "metadata": {
        "colab": {
          "base_uri": "https://localhost:8080/",
          "height": 539
        },
        "id": "vOt6NAhxT6rA",
        "outputId": "4e161a39-d568-4150-8701-2dfc757c38d7"
      },
      "execution_count": null,
      "outputs": [
        {
          "output_type": "stream",
          "name": "stdout",
          "text": [
            "False    6923\n",
            "True     2641\n",
            "Name: TrendInURL, dtype: int64\n"
          ]
        },
        {
          "output_type": "display_data",
          "data": {
            "text/plain": [
              "<Figure size 800x500 with 1 Axes>"
            ],
            "image/png": "[encoded data removed]"
          },
          "metadata": {}
        }
      ]
    },
    {
      "cell_type": "markdown",
      "source": [
        "Frequency Analysis of Specific Trend Name"
      ],
      "metadata": {
        "id": "BsWXjw8dUOoj"
      }
    },
    {
      "cell_type": "code",
      "source": [
        "# Filter data for a specific trend name\n",
        "specific_trend_name = '#NickiMail'  # Replace with your specific trend name\n",
        "\n",
        "specific_trend_data = data_with_time[data_with_time['TrendName'] == specific_trend_name]\n",
        "\n",
        "# Check if 'DiscoveryTime' is in the columns, if so convert it to datetime and set as index\n",
        "if 'DiscoveryTime' in specific_trend_data.columns:\n",
        "    specific_trend_data['DiscoveryTime'] = pd.to_datetime(specific_trend_data['DiscoveryTime'])\n",
        "    specific_trend_data.set_index('DiscoveryTime', inplace=True)\n",
        "\n",
        "# Plotting - Resampling by day\n",
        "plt.figure(figsize=(12, 6))\n",
        "specific_trend_data.resample('D').size().plot()  # 'D' stands for daily resampling\n",
        "plt.title(f'Occurrences of {specific_trend_name} Over Time')\n",
        "plt.xlabel('Date')\n",
        "plt.ylabel('Number of Occurrences')\n",
        "plt.show()"
      ],
      "metadata": {
        "colab": {
          "base_uri": "https://localhost:8080/",
          "height": 701
        },
        "id": "IzW8HHbaUTzX",
        "outputId": "de36a36e-e818-466c-a01c-2a6a150a257e"
      },
      "execution_count": null,
      "outputs": [
        {
          "output_type": "stream",
          "name": "stderr",
          "text": [
            "<ipython-input-28-821caf1f9117>:8: SettingWithCopyWarning: \n",
            "A value is trying to be set on a copy of a slice from a DataFrame.\n",
            "Try using .loc[row_indexer,col_indexer] = value instead\n",
            "\n",
            "See the caveats in the documentation: https://pandas.pydata.org/pandas-docs/stable/user_guide/indexing.html#returning-a-view-versus-a-copy\n",
            "  specific_trend_data['DiscoveryTime'] = pd.to_datetime(specific_trend_data['DiscoveryTime'])\n"
          ]
        },
        {
          "output_type": "display_data",
          "data": {
            "text/plain": [
              "<Figure size 1200x600 with 1 Axes>"
            ],
            "image/png": "[encoded data removed]"
          },
          "metadata": {}
        }
      ]
    }
  ],
  "metadata": {
    "colab": {
      "provenance": [],
      "include_colab_link": true
    },
    "kernelspec": {
      "display_name": "Python 3",
      "name": "python3"
    },
    "language_info": {
      "codemirror_mode": {
        "name": "ipython",
        "version": 3
      },
      "file_extension": ".py",
      "mimetype": "text/x-python",
      "name": "python",
      "nbconvert_exporter": "python",
      "pygments_lexer": "ipython3",
      "version": "3.10.3"
    }
  },
  "nbformat": 4,
  "nbformat_minor": 0
}